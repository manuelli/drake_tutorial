{
 "cells": [
  {
   "cell_type": "code",
   "execution_count": 31,
   "metadata": {},
   "outputs": [],
   "source": [
    "import os\n",
    "import numpy as np\n",
    "import pydrake\n",
    "from pydrake.multibody.parsing import Parser\n",
    "from pydrake.multibody.plant import MultibodyPlant\n",
    "from pydrake.multibody.inverse_kinematics import InverseKinematics\n",
    "from pydrake.math import RigidTransform, RotationMatrix\n",
    "from pydrake.all import MathematicalProgram, SolverType, Solve, SolverOptions"
   ]
  },
  {
   "cell_type": "markdown",
   "metadata": {},
   "source": [
    "## Construct MultibodyPlant"
   ]
  },
  {
   "cell_type": "code",
   "execution_count": 32,
   "metadata": {},
   "outputs": [],
   "source": [
    "path_to_urdf = os.path.join(os.getcwd(), \"iiwa14_simplified_collision.urdf\")\n",
    "ee_frame_name = \"iiwa_link_ee\"\n",
    "\n",
    "# setup the MultibodyPlant\n",
    "plant = MultibodyPlant()\n",
    "iiwa_model = Parser(plant).AddModelFromFile(path_to_urdf, model_name='robot')\n",
    "\n",
    "world_frame = plant.world_frame()\n",
    "# weld base joint to world\n",
    "plant.WeldFrames(A=world_frame, B=plant.GetFrameByName('base', iiwa_model))\n",
    "plant.Finalize()\n",
    "\n",
    "ee_frame = plant.GetFrameByName(ee_frame_name, iiwa_model)\n",
    "\n",
    "# create default context\n",
    "context = plant.CreateDefaultContext()"
   ]
  },
  {
   "cell_type": "code",
   "execution_count": 33,
   "metadata": {},
   "outputs": [],
   "source": [
    "def compute_forward_kinematics(plant, q):\n",
    "    context = plant.CreateDefaultContext()\n",
    "    plant.SetPositions(context, q)\n",
    "    T_W_EE = plant.CalcRelativeTransform(context, frame_A=world_frame, frame_B=ee_frame)\n",
    "    return T_W_EE.matrix()"
   ]
  },
  {
   "cell_type": "code",
   "execution_count": 34,
   "metadata": {},
   "outputs": [
    {
     "name": "stdout",
     "output_type": "stream",
     "text": [
      "[[ 4.79425539e-01  5.20961776e-16 -8.77582562e-01  4.53536560e-01]\n",
      " [-1.05581052e-16  1.00000000e+00  5.35953588e-16 -2.88245255e-16]\n",
      " [ 8.77582562e-01 -1.64293747e-16  4.79425539e-01  1.19019310e+00]\n",
      " [ 0.00000000e+00  0.00000000e+00  0.00000000e+00  1.00000000e+00]]\n"
     ]
    }
   ],
   "source": [
    "q = np.zeros(7)\n",
    "q[1] = 0.5\n",
    "T_W_E = compute_forward_kinematics(plant, q)\n",
    "print(T_W_E)\n",
    "target_pos = T_W_E[:3, 3]"
   ]
  },
  {
   "cell_type": "markdown",
   "metadata": {},
   "source": [
    "## Setup IK program"
   ]
  },
  {
   "cell_type": "code",
   "execution_count": 37,
   "metadata": {},
   "outputs": [
    {
     "name": "stdout",
     "output_type": "stream",
     "text": [
      "success: True\n",
      "SNOPT/f2c\n",
      "q_val [ 0.          0.49377164  0.         -0.00855533  0.          0.00204851\n",
      "  0.        ]\n",
      "solution result: SolutionResult.kSolutionFound\n"
     ]
    }
   ],
   "source": [
    "ik = InverseKinematics(plant)\n",
    "q_vars = ik.q() # variables in optimization problem\n",
    "mp = ik.prog() # mathematical program object\n",
    "\n",
    "pos_tol = 1e-3\n",
    "\n",
    "p_WF = T_W_E[:3, 3]\n",
    "F = ee_frame\n",
    "W = world_frame\n",
    "# add position constraint\n",
    "ik.AddPositionConstraint(\n",
    "            frameB=F, p_BQ=np.zeros(3),\n",
    "            frameA=W, p_AQ_lower=p_WF - pos_tol, p_AQ_upper=p_WF + pos_tol)\n",
    "\n",
    "res = Solve(mp)\n",
    "print(\"success:\", res.is_success())\n",
    "print(res.get_solver_id().name())\n",
    "q_val = res.GetSolution(q_vars)\n",
    "print(\"q_val\", q_val)\n",
    "print(\"solution result:\", res.get_solution_result())"
   ]
  }
 ],
 "metadata": {
  "kernelspec": {
   "display_name": "drake_python3",
   "language": "python",
   "name": "drake_python3"
  },
  "language_info": {
   "codemirror_mode": {
    "name": "ipython",
    "version": 3
   },
   "file_extension": ".py",
   "mimetype": "text/x-python",
   "name": "python",
   "nbconvert_exporter": "python",
   "pygments_lexer": "ipython3",
   "version": "3.7.4"
  }
 },
 "nbformat": 4,
 "nbformat_minor": 2
}
