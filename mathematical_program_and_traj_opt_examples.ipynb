{
 "cells": [
  {
   "cell_type": "markdown",
   "metadata": {},
   "source": [
    "## How to use Mathematical Program, and use it to formulate optimizations for robots"
   ]
  },
  {
   "cell_type": "markdown",
   "metadata": {},
   "source": [
    "One area of tools offered in pydrake is the MathematicalProgram interface.  MathematicalProgram is a class that abstracts many different useful types of optimization solvers.  This makes it so from one interface, you can access many different solvers.  The MathematicalProgram component of Drake is comparable to JuMP, in the Julia ecosystem. To get a concise overview of which solvers are supported for which different types of optimization problems, check out [this chart](http://drake.mit.edu/doxygen_cxx/group__solvers.html).  \n",
    "\n",
    "As is the case with hot-off-the-presses code, there is not yet a plethora of documentation, but here we're going to try to provide you with enough sample code to help get you started. \n",
    "\n",
    "In addition to the code snippets below, these two tips are also very useful:\n",
    "\n",
    "- Once you construct a MathematicalProgram object, i.e. `mp = MathematicalProgram()`, the tab completion in your jupyter notebook can be very helpful.  \n",
    "\n",
    " --> For example, let's say you want to know if a MathematicalProgram can print how many decision variables currently exist.  Tab completing on `mp.` and scrolling through, you'll find `num_vars`.  Indeed `mp.num_vars()` will do the trick.\n",
    " \n",
    " --> Want to know which solver MP is currently using under the hood for a particular problem instance?\n",
    " \n",
    "```python\n",
    "res = Solve(mp) # must first solve the program (which forces a solver to be chosen)\n",
    "solver = res.get_solver_id()\n",
    "solver.name() # name will tab complete after creating a solver object\n",
    "```\n",
    "- An additional resource for how to use MathematicalProgram is the tests written for it. There are a significant amount of tests for MathematicalProgram, written in C++.  See [here](https://github.com/RobotLocomotion/drake/blob/master/solvers/test/mathematical_program_test.cc) but also other tests in that folder.  Note however that not all C++ features have pydrake bindings -- for those familiar with pybind, the bindings for MathematicalProgram are generated [here](https://github.com/RobotLocomotion/drake/blob/master/bindings/pydrake/solvers/mathematicalprogram_py.cc), and are demonstrated in numerous tests [here](https://github.com/RobotLocomotion/drake/tree/master/bindings/pydrake/solvers/test)."
   ]
  },
  {
   "cell_type": "markdown",
   "metadata": {},
   "source": [
    "### Okay, but how do I actually do an optimization problem?  \n",
    "\n",
    "How do we translate something written on the board as a linear program, and write it down in code?\n",
    "\n",
    "Here is a very simple example of an LP:\n",
    "\n",
    "\\begin{align*}\n",
    "        \\min_{x} \\ \\ \\ x \\\\\n",
    "        s.t. \\ \\ \\  & x >= 1 \\\\\n",
    "\\end{align*}\n",
    "\n",
    "And the corresponding Mathematical Program code is below."
   ]
  },
  {
   "cell_type": "code",
   "execution_count": 1,
   "metadata": {},
   "outputs": [],
   "source": [
    "from pydrake.all import MathematicalProgram, SolverType, Solve, SolverOptions\n",
    "from pydrake.solvers.ipopt import IpoptSolver\n",
    "import numpy as np\n",
    "import math"
   ]
  },
  {
   "cell_type": "code",
   "execution_count": 2,
   "metadata": {},
   "outputs": [
    {
     "name": "stdout",
     "output_type": "stream",
     "text": [
      "success: True\n",
      "SNOPT/f2c\n",
      "[1.]\n",
      "solution result: SolutionResult.kSolutionFound\n"
     ]
    }
   ],
   "source": [
    "mp = MathematicalProgram()\n",
    "x = mp.NewContinuousVariables(1, \"x\")\n",
    "mp.AddLinearCost(x[0]*1.0)\n",
    "mp.AddLinearConstraint(x[0] >= 1)\n",
    "res = Solve(mp)\n",
    "print(\"success:\", res.is_success())\n",
    "print(res.get_solver_id().name())\n",
    "print(res.GetSolution(x))\n",
    "print(\"solution result:\", res.get_solution_result())"
   ]
  },
  {
   "cell_type": "code",
   "execution_count": 3,
   "metadata": {},
   "outputs": [
    {
     "name": "stdout",
     "output_type": "stream",
     "text": [
      "success: True\n",
      "IPOPT\n",
      "[1.]\n",
      "solution result: SolutionResult.kSolutionFound\n"
     ]
    }
   ],
   "source": [
    "# solve the same program as above but with the IPOPT solver\n",
    "mp = MathematicalProgram()\n",
    "x = mp.NewContinuousVariables(1, \"x\")\n",
    "mp.AddLinearCost(x[0]*1.0)\n",
    "mp.AddLinearConstraint(x[0] >= 1)\n",
    "solver = IpoptSolver()\n",
    "res = solver.Solve(mp, None, None)\n",
    "print(\"success:\", res.is_success())\n",
    "print(res.get_solver_id().name())\n",
    "print(res.GetSolution(x))\n",
    "print(\"solution result:\", res.get_solution_result())"
   ]
  },
  {
   "cell_type": "markdown",
   "metadata": {},
   "source": [
    "Note that written down slightly incorrectly, you will not get the answer you were looking for.  What is wrong about the two examples below?"
   ]
  },
  {
   "cell_type": "code",
   "execution_count": 4,
   "metadata": {},
   "outputs": [
    {
     "name": "stdout",
     "output_type": "stream",
     "text": [
      "False\n",
      "[nan]\n"
     ]
    }
   ],
   "source": [
    "mp = MathematicalProgram()\n",
    "x = mp.NewContinuousVariables(1, \"x\")\n",
    "mp.AddLinearCost(x[0]*1.0)\n",
    "res = Solve(mp)\n",
    "print(res.is_success())\n",
    "print(res.GetSolution(x))"
   ]
  },
  {
   "cell_type": "code",
   "execution_count": 5,
   "metadata": {},
   "outputs": [
    {
     "name": "stdout",
     "output_type": "stream",
     "text": [
      "False\n",
      "[-6.17673396e+14]\n"
     ]
    }
   ],
   "source": [
    "mp = MathematicalProgram()\n",
    "x = mp.NewContinuousVariables(1, \"x\")\n",
    "mp.AddLinearCost(x[0]*1.0)\n",
    "mp.AddLinearConstraint(x[0] <= 1)\n",
    "res = Solve(mp)\n",
    "print(res.is_success())\n",
    "print(res.GetSolution(x))"
   ]
  },
  {
   "cell_type": "markdown",
   "metadata": {},
   "source": [
    "Here's a slightly more complicated example, this one solves a problem that may look familiar to you.\n",
    "\n",
    "This is just one example of how, even though Linear Programs can only handle linear objectives and constraints, you can use them to sample over arbitrarily complex functions, and the samples of those functions can still be just linear constraints / objectives."
   ]
  },
  {
   "cell_type": "code",
   "execution_count": 6,
   "metadata": {},
   "outputs": [
    {
     "name": "stdout",
     "output_type": "stream",
     "text": [
      "True\n",
      "[1.23623682]\n"
     ]
    }
   ],
   "source": [
    "mp = MathematicalProgram()\n",
    "alpha = mp.NewContinuousVariables(1, \"alpha\")\n",
    "mp.AddLinearCost(alpha[0]*1.0)\n",
    "for xi in np.arange(-5*np.pi, 5*np.pi+np.pi/8, np.pi/8):\n",
    "    mp.AddLinearConstraint(alpha[0] - math.cos(xi)**2 + math.sin(xi) >= 0)\n",
    "    \n",
    "res = Solve(mp)\n",
    "print(res.is_success())\n",
    "print(res.GetSolution(alpha))"
   ]
  },
  {
   "cell_type": "markdown",
   "metadata": {},
   "source": [
    "Note the MathematicalProgram is formulated in terms of \"costs\", and will minimize the objective function's costs when calling `Solve()`.  How can we maximize functions? Just add a negative sign:"
   ]
  },
  {
   "cell_type": "code",
   "execution_count": null,
   "metadata": {},
   "outputs": [],
   "source": [
    "mp = MathematicalProgram()\n",
    "x = mp.NewContinuousVariables(1, \"x\")\n",
    "mp.AddLinearCost(-x[0]*1.0)\n",
    "mp.AddLinearConstraint(x[0] <= 4)\n",
    "res = Solve(mp)\n",
    "print(res.is_success())\n",
    "print(res.GetSolution(x))"
   ]
  },
  {
   "cell_type": "markdown",
   "metadata": {},
   "source": [
    "Now how about if we want to go outside the realm of Linear Programs?  What if we want to do a Quadratic Program?  Recall that the only difference between a quadratic program and a Linear Program is that QPs now allow a quadratic cost, but still only linear objectives."
   ]
  },
  {
   "cell_type": "code",
   "execution_count": null,
   "metadata": {},
   "outputs": [],
   "source": [
    "mp = MathematicalProgram()\n",
    "x = mp.NewContinuousVariables(1, \"x\")\n",
    "mp.AddQuadraticCost((x[0]-3)**2)\n",
    "res = Solve(mp)\n",
    "print(\"success:\", res.is_success())\n",
    "print(res.get_solver_id().name())\n",
    "print(res.GetSolution(x))\n",
    "print(\"solution result:\", res.get_solution_result())"
   ]
  },
  {
   "cell_type": "markdown",
   "metadata": {},
   "source": [
    "Note that as above, a QP can be well formulated even without any constraints.  (LPs will have unbounded objectives without constraints.)"
   ]
  },
  {
   "cell_type": "markdown",
   "metadata": {},
   "source": [
    "Note that there is no `QuadraticConstraint` in MathematicalProgram.  Why not?  (What class of problem is a QuadraticConstraint?)"
   ]
  },
  {
   "cell_type": "markdown",
   "metadata": {},
   "source": [
    "But actually although there is no specific function call for it, MathematicalProgram can generally handle a quadratic constraint, and many other different types of constraints, through `AddConstraint`, where inside the argument to the function is a symbolic formula of type `==`, `>=`, or `<=`.  This opens up MathematicalProgram to solve general nonlinear optimization problems."
   ]
  },
  {
   "cell_type": "code",
   "execution_count": null,
   "metadata": {},
   "outputs": [],
   "source": [
    "mp = MathematicalProgram()\n",
    "x = mp.NewContinuousVariables(2, \"x\")\n",
    "mp.AddConstraint((x[0]**2 + x[1]**2) == 1.0)\n",
    "mp.AddLinearCost(x.sum())\n",
    "\n",
    "# note if you set the initial guess to be zero,\n",
    "# then SNOPT fails to find a solution, if you set it to be\n",
    "# -0.5 it gives the correct solution\n",
    "mp.SetInitialGuessForAllVariables(np.array([-0.5,-0.5]))\n",
    "\n",
    "# this will give the incorrect solution. Remember this is a non-convex optimization\n",
    "# and SNOPT is a local solver\n",
    "# mp.SetInitialGuessForAllVariables(np.array([0.5,0.5]))\n",
    "\n",
    "res = Solve(mp)\n",
    "print(\"success:\", res.is_success())\n",
    "print(res.get_solver_id().name())\n",
    "print(res.GetSolution(x))\n",
    "print(\"solution result:\", res.get_solution_result())\n",
    "solver_id = res.get_solver_id()"
   ]
  },
  {
   "cell_type": "markdown",
   "metadata": {},
   "source": [
    "Alternatively you can even use many numpy operations, including `dot`:"
   ]
  },
  {
   "cell_type": "code",
   "execution_count": null,
   "metadata": {},
   "outputs": [],
   "source": [
    "mp = MathematicalProgram()\n",
    "x = mp.NewContinuousVariables(2, \"x\")\n",
    "mp.AddConstraint(x.dot(x) == 1.0)\n",
    "mp.AddLinearCost(x.sum())\n",
    "mp.SetInitialGuessForAllVariables(np.array([-0.5, -0.5]))\n",
    "res = Solve(mp)\n",
    "print(res.is_success())\n",
    "print(res.GetSolution(x))\n",
    "print(res.get_solution_result())"
   ]
  },
  {
   "cell_type": "markdown",
   "metadata": {},
   "source": [
    "The above type of constraint will be very useful for our trajectory optimizations, which are in general nonlinear for sufficiently complex problems."
   ]
  },
  {
   "cell_type": "markdown",
   "metadata": {},
   "source": [
    "Note below that for the Mixed-Integer class of problems, the two solvers supported by Drake (as you can see from the chart linked above) are both proprietary solvers and not shipped with the docker image.  You may want to delve into this class of problems for final projects, however, and we can help you get access to these solvers if needed.  Gurobi is very powerful and availble for free for academic use, although will not work easily in a docker image and so we'd suggest a native Drake installation."
   ]
  },
  {
   "cell_type": "code",
   "execution_count": null,
   "metadata": {},
   "outputs": [],
   "source": [
    "# This needs a commercial solver to work...\n",
    "# mp = MathematicalProgram()\n",
    "# x = mp.NewContinuousVariables(1, \"x\")\n",
    "# b = mp.NewBinaryVariables(1, \"b\")\n",
    "# mp.AddLinearConstraint(x[0] <= 1)\n",
    "# mp.Solve()\n",
    "# print mp.GetSolution(x)"
   ]
  },
  {
   "cell_type": "markdown",
   "metadata": {},
   "source": [
    "## Custom costs and constraints\n",
    "You can add your own costs/constraints that don't fit into one of the specified forms"
   ]
  },
  {
   "cell_type": "code",
   "execution_count": null,
   "metadata": {},
   "outputs": [],
   "source": [
    "def my_cost_func(x):\n",
    "    return np.dot(x,x)\n",
    "\n",
    "mp = MathematicalProgram()\n",
    "x = mp.NewContinuousVariables(2, \"x\")\n",
    "mp.AddCost(my_cost_func, x) # there is a similar AddConstraint function as well\n",
    "mp.AddConstraint(x[1] >= 1.0)\n",
    "\n",
    "res = Solve(mp)\n",
    "print(\"success:\", res.is_success())\n",
    "print(\"x:\", res.GetSolution(x))\n",
    "print(res.get_solution_result())\n",
    "print(\"cost:\", res.get_optimal_cost())"
   ]
  }
 ],
 "metadata": {
  "kernelspec": {
   "display_name": "drake_python3",
   "language": "python",
   "name": "drake_python3"
  },
  "language_info": {
   "codemirror_mode": {
    "name": "ipython",
    "version": 3
   },
   "file_extension": ".py",
   "mimetype": "text/x-python",
   "name": "python",
   "nbconvert_exporter": "python",
   "pygments_lexer": "ipython3",
   "version": "3.7.4"
  }
 },
 "nbformat": 4,
 "nbformat_minor": 2
}
